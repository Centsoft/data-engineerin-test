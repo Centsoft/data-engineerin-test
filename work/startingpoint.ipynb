{
 "cells": [
  {
   "cell_type": "code",
   "execution_count": null,
   "id": "2a05e5a3-4217-4990-9af4-c4a395c58e48",
   "metadata": {},
   "outputs": [],
   "source": [
    "'''\n",
    "We need to get a sense over how our support works.\n",
    "We use freshdesk as a ticket management system.\n",
    "\n",
    "Here's the documentation for the freshdesk API: https://developers.freshdesk.com/api/\n",
    "\n",
    "For these tasks we only need to look at data since the beginning of August this year 2024-08-01\n",
    "\n",
    "Tasks\n",
    "1) Fetch the data we need from the API\n",
    "\n",
    "2) Top ten ticket generating customers\n",
    "We want to get an idea of the top ten customers that generates the most tickets\n",
    "\n",
    "3) Does the support pacakge type influence how often customers use our support\n",
    "We want to know if the support package in any way influences how many tickets a company is created.\n",
    "\n",
    "4) Workload of the different support functions\n",
    "We want to know how many tickets are created and closed every month on average. We also want to know how many tickets on average are open each month.\n",
    "'''"
   ]
  }
 ],
 "metadata": {
  "kernelspec": {
   "display_name": "Python 3 (ipykernel)",
   "language": "python",
   "name": "python3"
  },
  "language_info": {
   "codemirror_mode": {
    "name": "ipython",
    "version": 3
   },
   "file_extension": ".py",
   "mimetype": "text/x-python",
   "name": "python",
   "nbconvert_exporter": "python",
   "pygments_lexer": "ipython3",
   "version": "3.12.9"
  }
 },
 "nbformat": 4,
 "nbformat_minor": 5
}
